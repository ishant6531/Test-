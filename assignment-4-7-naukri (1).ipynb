{
 "cells": [
  {
   "cell_type": "code",
   "execution_count": 1,
   "metadata": {},
   "outputs": [],
   "source": [
    "# Importing Libraries \n",
    "\n",
    "import numpy as np\n",
    "import pandas as pd\n",
    "from  selenium import webdriver\n",
    "from time import sleep\n",
    "import warnings\n",
    "warnings.filterwarnings('ignore')\n",
    "import time\n",
    "import string"
   ]
  },
  {
   "cell_type": "code",
   "execution_count": 2,
   "metadata": {},
   "outputs": [],
   "source": [
    "#Loading Driver\n",
    "driver =webdriver.Chrome(r\"C:\\Users\\thunderbolt\\sof\\chromedriver.exe\")"
   ]
  },
  {
   "cell_type": "code",
   "execution_count": 3,
   "metadata": {},
   "outputs": [],
   "source": [
    "# Giving the name of website we have to  scrap\n",
    "url = \"https://www.naukri.com/\""
   ]
  },
  {
   "cell_type": "code",
   "execution_count": 4,
   "metadata": {},
   "outputs": [],
   "source": [
    "#Getting Url \n",
    "driver.get(url)"
   ]
  },
  {
   "cell_type": "code",
   "execution_count": 5,
   "metadata": {},
   "outputs": [],
   "source": [
    "time.sleep(5)"
   ]
  },
  {
   "cell_type": "code",
   "execution_count": 6,
   "metadata": {},
   "outputs": [],
   "source": [
    "name  = []\n",
    "designation  = []\n",
    "company  = []\n",
    "skills   = []\n",
    "location = []"
   ]
  },
  {
   "cell_type": "code",
   "execution_count": 7,
   "metadata": {},
   "outputs": [],
   "source": [
    "time.sleep(5)"
   ]
  },
  {
   "cell_type": "code",
   "execution_count": 8,
   "metadata": {},
   "outputs": [],
   "source": [
    "driver.switch_to_window(driver.window_handles[1])"
   ]
  },
  {
   "cell_type": "code",
   "execution_count": 9,
   "metadata": {},
   "outputs": [],
   "source": [
    "driver.close()"
   ]
  },
  {
   "cell_type": "code",
   "execution_count": 10,
   "metadata": {},
   "outputs": [],
   "source": [
    "time.sleep(5)"
   ]
  },
  {
   "cell_type": "code",
   "execution_count": 11,
   "metadata": {},
   "outputs": [],
   "source": [
    "driver.switch_to_window(driver.window_handles[1])"
   ]
  },
  {
   "cell_type": "code",
   "execution_count": 12,
   "metadata": {},
   "outputs": [],
   "source": [
    "driver.close()"
   ]
  },
  {
   "cell_type": "code",
   "execution_count": 13,
   "metadata": {},
   "outputs": [],
   "source": [
    "driver.switch_to_window(driver.window_handles[0])"
   ]
  },
  {
   "cell_type": "code",
   "execution_count": 14,
   "metadata": {},
   "outputs": [],
   "source": [
    "time.sleep(3)"
   ]
  },
  {
   "cell_type": "code",
   "execution_count": 15,
   "metadata": {},
   "outputs": [],
   "source": [
    "Task1 = driver.find_element_by_xpath(\"//div[@class='privacyPolicy']/div//button\")\n",
    "Task1.click()"
   ]
  },
  {
   "cell_type": "code",
   "execution_count": 16,
   "metadata": {},
   "outputs": [],
   "source": [
    "time.sleep(3)"
   ]
  },
  {
   "cell_type": "code",
   "execution_count": 17,
   "metadata": {},
   "outputs": [],
   "source": [
    "Task2 = driver.find_element_by_xpath(\"//div[@class='userPrompt animate']//span[1]\")\n",
    "Task2.click()"
   ]
  },
  {
   "cell_type": "code",
   "execution_count": 18,
   "metadata": {},
   "outputs": [],
   "source": [
    "time.sleep(3)"
   ]
  },
  {
   "cell_type": "code",
   "execution_count": 19,
   "metadata": {},
   "outputs": [],
   "source": [
    "Task3 = driver.find_element_by_xpath(\"//ul[@class='midSec menu']/li[2]/a/div\")\n",
    "Task3.click()"
   ]
  },
  {
   "cell_type": "code",
   "execution_count": 20,
   "metadata": {},
   "outputs": [],
   "source": [
    "time.sleep(3)"
   ]
  },
  {
   "cell_type": "code",
   "execution_count": 21,
   "metadata": {},
   "outputs": [],
   "source": [
    "driver.switch_to_window(driver.window_handles[1])"
   ]
  },
  {
   "cell_type": "code",
   "execution_count": 22,
   "metadata": {},
   "outputs": [],
   "source": [
    "time.sleep(3)"
   ]
  },
  {
   "cell_type": "code",
   "execution_count": 23,
   "metadata": {},
   "outputs": [],
   "source": [
    "Task4 = driver.find_element_by_xpath(\"//div[@class='sWrap lftBrd']/div[2]/input\")\n",
    "Task4.send_keys('Data Science')"
   ]
  },
  {
   "cell_type": "code",
   "execution_count": 24,
   "metadata": {},
   "outputs": [],
   "source": [
    "time.sleep(3)"
   ]
  },
  {
   "cell_type": "code",
   "execution_count": 25,
   "metadata": {},
   "outputs": [],
   "source": [
    "Task5 = driver.find_element_by_xpath(\"//button[@class='fl qsbSrch blueBtn']\")\n",
    "Task5.click()"
   ]
  },
  {
   "cell_type": "code",
   "execution_count": 26,
   "metadata": {},
   "outputs": [],
   "source": [
    "time.sleep(3)"
   ]
  },
  {
   "cell_type": "code",
   "execution_count": 27,
   "metadata": {},
   "outputs": [
    {
     "data": {
      "text/plain": [
       "[<selenium.webdriver.remote.webelement.WebElement (session=\"b4103080033d2b2ea3fcd788be4355fa\", element=\"7e38f75f-6f92-4bd5-afd6-288f3c2d94d2\")>,\n",
       " <selenium.webdriver.remote.webelement.WebElement (session=\"b4103080033d2b2ea3fcd788be4355fa\", element=\"734564e8-3a84-42b0-942a-5545f570a305\")>,\n",
       " <selenium.webdriver.remote.webelement.WebElement (session=\"b4103080033d2b2ea3fcd788be4355fa\", element=\"20c52bb0-1fc9-45cf-add0-962bba49a307\")>,\n",
       " <selenium.webdriver.remote.webelement.WebElement (session=\"b4103080033d2b2ea3fcd788be4355fa\", element=\"99a37482-7133-4c55-81a4-ffa89a68ddce\")>,\n",
       " <selenium.webdriver.remote.webelement.WebElement (session=\"b4103080033d2b2ea3fcd788be4355fa\", element=\"ed6323a1-32db-46c9-b158-3ddad0dc2223\")>]"
      ]
     },
     "execution_count": 27,
     "metadata": {},
     "output_type": "execute_result"
    }
   ],
   "source": [
    "Task7 = driver.find_elements_by_xpath(\"//p[@class='highlightable']//span[@class='fl ellipsis']\")\n",
    "Task7[0:5]"
   ]
  },
  {
   "cell_type": "code",
   "execution_count": 28,
   "metadata": {},
   "outputs": [
    {
     "data": {
      "text/plain": [
       "['Aakash Harit',\n",
       " 'shravan Kumar Gaddam',\n",
       " 'Talent Acquisition Executive',\n",
       " 'Anik Agrawal',\n",
       " 'MARSIAN Technologies LLP']"
      ]
     },
     "execution_count": 28,
     "metadata": {},
     "output_type": "execute_result"
    }
   ],
   "source": [
    "for qw in Task7:\n",
    "    we  = qw.text\n",
    "    name.append(we)\n",
    "name[0:5]"
   ]
  },
  {
   "cell_type": "code",
   "execution_count": 29,
   "metadata": {},
   "outputs": [
    {
     "data": {
      "text/html": [
       "<div>\n",
       "<style scoped>\n",
       "    .dataframe tbody tr th:only-of-type {\n",
       "        vertical-align: middle;\n",
       "    }\n",
       "\n",
       "    .dataframe tbody tr th {\n",
       "        vertical-align: top;\n",
       "    }\n",
       "\n",
       "    .dataframe thead th {\n",
       "        text-align: right;\n",
       "    }\n",
       "</style>\n",
       "<table border=\"1\" class=\"dataframe\">\n",
       "  <thead>\n",
       "    <tr style=\"text-align: right;\">\n",
       "      <th></th>\n",
       "      <th>Name</th>\n",
       "    </tr>\n",
       "  </thead>\n",
       "  <tbody>\n",
       "    <tr>\n",
       "      <th>0</th>\n",
       "      <td>Aakash Harit</td>\n",
       "    </tr>\n",
       "    <tr>\n",
       "      <th>1</th>\n",
       "      <td>shravan Kumar Gaddam</td>\n",
       "    </tr>\n",
       "    <tr>\n",
       "      <th>2</th>\n",
       "      <td>Talent Acquisition Executive</td>\n",
       "    </tr>\n",
       "    <tr>\n",
       "      <th>3</th>\n",
       "      <td>Anik Agrawal</td>\n",
       "    </tr>\n",
       "    <tr>\n",
       "      <th>4</th>\n",
       "      <td>MARSIAN Technologies LLP</td>\n",
       "    </tr>\n",
       "  </tbody>\n",
       "</table>\n",
       "</div>"
      ],
      "text/plain": [
       "                           Name\n",
       "0                  Aakash Harit\n",
       "1          shravan Kumar Gaddam\n",
       "2  Talent Acquisition Executive\n",
       "3                  Anik Agrawal\n",
       "4      MARSIAN Technologies LLP"
      ]
     },
     "execution_count": 29,
     "metadata": {},
     "output_type": "execute_result"
    }
   ],
   "source": [
    "name1 = pd.DataFrame(name)\n",
    "name2 = name1.rename({ 0 : 'Name'} , axis = 1 )\n",
    "name2[0:5]"
   ]
  },
  {
   "cell_type": "code",
   "execution_count": 30,
   "metadata": {},
   "outputs": [],
   "source": [
    "time.sleep(5)"
   ]
  },
  {
   "cell_type": "code",
   "execution_count": 31,
   "metadata": {},
   "outputs": [
    {
     "data": {
      "text/plain": [
       "[<selenium.webdriver.remote.webelement.WebElement (session=\"b4103080033d2b2ea3fcd788be4355fa\", element=\"bcc5d573-cf19-4cf8-b97f-beb61dc02b21\")>,\n",
       " <selenium.webdriver.remote.webelement.WebElement (session=\"b4103080033d2b2ea3fcd788be4355fa\", element=\"2b23323c-b7e9-4d48-a2eb-84f21afb3abe\")>,\n",
       " <selenium.webdriver.remote.webelement.WebElement (session=\"b4103080033d2b2ea3fcd788be4355fa\", element=\"91907673-a728-406c-bbaf-8dd67fb5c4bc\")>,\n",
       " <selenium.webdriver.remote.webelement.WebElement (session=\"b4103080033d2b2ea3fcd788be4355fa\", element=\"3db0fe46-90d3-415f-8fb4-62a9e3fbcafc\")>,\n",
       " <selenium.webdriver.remote.webelement.WebElement (session=\"b4103080033d2b2ea3fcd788be4355fa\", element=\"02a2ba36-7b61-411c-bc97-e575aff63858\")>]"
      ]
     },
     "execution_count": 31,
     "metadata": {},
     "output_type": "execute_result"
    }
   ],
   "source": [
    "Task8 = driver.find_elements_by_xpath(\"//p[@class='highlightable']//span[@class='ellipsis clr']\")\n",
    "Task8[0:5]"
   ]
  },
  {
   "cell_type": "code",
   "execution_count": 32,
   "metadata": {},
   "outputs": [],
   "source": [
    "time.sleep(3)"
   ]
  },
  {
   "cell_type": "code",
   "execution_count": 33,
   "metadata": {},
   "outputs": [
    {
     "data": {
      "text/plain": [
       "['HR Manager',\n",
       " 'Company Recruiter',\n",
       " 'Recruitment Professional',\n",
       " 'Company Recruiter',\n",
       " 'Company HR']"
      ]
     },
     "execution_count": 33,
     "metadata": {},
     "output_type": "execute_result"
    }
   ],
   "source": [
    "for rt in Task8:\n",
    "    yu = rt.text\n",
    "    designation.append(yu)\n",
    "designation[0:5]"
   ]
  },
  {
   "cell_type": "code",
   "execution_count": 34,
   "metadata": {},
   "outputs": [
    {
     "data": {
      "text/html": [
       "<div>\n",
       "<style scoped>\n",
       "    .dataframe tbody tr th:only-of-type {\n",
       "        vertical-align: middle;\n",
       "    }\n",
       "\n",
       "    .dataframe tbody tr th {\n",
       "        vertical-align: top;\n",
       "    }\n",
       "\n",
       "    .dataframe thead th {\n",
       "        text-align: right;\n",
       "    }\n",
       "</style>\n",
       "<table border=\"1\" class=\"dataframe\">\n",
       "  <thead>\n",
       "    <tr style=\"text-align: right;\">\n",
       "      <th></th>\n",
       "      <th>Designation</th>\n",
       "    </tr>\n",
       "  </thead>\n",
       "  <tbody>\n",
       "    <tr>\n",
       "      <th>0</th>\n",
       "      <td>HR Manager</td>\n",
       "    </tr>\n",
       "    <tr>\n",
       "      <th>1</th>\n",
       "      <td>Company Recruiter</td>\n",
       "    </tr>\n",
       "    <tr>\n",
       "      <th>2</th>\n",
       "      <td>Recruitment Professional</td>\n",
       "    </tr>\n",
       "    <tr>\n",
       "      <th>3</th>\n",
       "      <td>Company Recruiter</td>\n",
       "    </tr>\n",
       "    <tr>\n",
       "      <th>4</th>\n",
       "      <td>Company HR</td>\n",
       "    </tr>\n",
       "  </tbody>\n",
       "</table>\n",
       "</div>"
      ],
      "text/plain": [
       "                Designation\n",
       "0                HR Manager\n",
       "1         Company Recruiter\n",
       "2  Recruitment Professional\n",
       "3         Company Recruiter\n",
       "4                Company HR"
      ]
     },
     "execution_count": 34,
     "metadata": {},
     "output_type": "execute_result"
    }
   ],
   "source": [
    "designation1 = pd.DataFrame(designation)\n",
    "designation2= designation1.rename({0 : 'Designation'}, axis=1  )\n",
    "designation2[0:5]"
   ]
  },
  {
   "cell_type": "code",
   "execution_count": 35,
   "metadata": {},
   "outputs": [
    {
     "data": {
      "text/plain": [
       "[<selenium.webdriver.remote.webelement.WebElement (session=\"b4103080033d2b2ea3fcd788be4355fa\", element=\"51b2add5-2f14-42e7-a3be-93fb2d147177\")>,\n",
       " <selenium.webdriver.remote.webelement.WebElement (session=\"b4103080033d2b2ea3fcd788be4355fa\", element=\"8b6c7556-be2d-451e-a0e5-e4c2b23b6f06\")>,\n",
       " <selenium.webdriver.remote.webelement.WebElement (session=\"b4103080033d2b2ea3fcd788be4355fa\", element=\"90c1b72b-4c3e-40c6-a193-9dc7f0340984\")>,\n",
       " <selenium.webdriver.remote.webelement.WebElement (session=\"b4103080033d2b2ea3fcd788be4355fa\", element=\"4ead4541-3b22-4c24-9457-42ee5af69b15\")>,\n",
       " <selenium.webdriver.remote.webelement.WebElement (session=\"b4103080033d2b2ea3fcd788be4355fa\", element=\"4b68cd94-30c3-4d4b-853e-3f3faabc9e27\")>]"
      ]
     },
     "execution_count": 35,
     "metadata": {},
     "output_type": "execute_result"
    }
   ],
   "source": [
    "Task9 = driver.find_elements_by_xpath(\"//p[@class='highlightable']/a[2]\")\n",
    "Task9[0:5]"
   ]
  },
  {
   "cell_type": "code",
   "execution_count": 36,
   "metadata": {},
   "outputs": [
    {
     "data": {
      "text/plain": [
       "['Data Science Network',\n",
       " 'Shore Infotech India Pvt. Ltd',\n",
       " 'XenonStack',\n",
       " 'Enerlytics Software Solutions Pvt Ltd',\n",
       " 'MARSIAN Technologies LLP']"
      ]
     },
     "execution_count": 36,
     "metadata": {},
     "output_type": "execute_result"
    }
   ],
   "source": [
    "for yu in Task9:\n",
    "    ui = yu.text\n",
    "    company.append(ui)\n",
    "company[0:5]"
   ]
  },
  {
   "cell_type": "code",
   "execution_count": 37,
   "metadata": {},
   "outputs": [
    {
     "data": {
      "text/html": [
       "<div>\n",
       "<style scoped>\n",
       "    .dataframe tbody tr th:only-of-type {\n",
       "        vertical-align: middle;\n",
       "    }\n",
       "\n",
       "    .dataframe tbody tr th {\n",
       "        vertical-align: top;\n",
       "    }\n",
       "\n",
       "    .dataframe thead th {\n",
       "        text-align: right;\n",
       "    }\n",
       "</style>\n",
       "<table border=\"1\" class=\"dataframe\">\n",
       "  <thead>\n",
       "    <tr style=\"text-align: right;\">\n",
       "      <th></th>\n",
       "      <th>Company Name</th>\n",
       "    </tr>\n",
       "  </thead>\n",
       "  <tbody>\n",
       "    <tr>\n",
       "      <th>0</th>\n",
       "      <td>Data Science Network</td>\n",
       "    </tr>\n",
       "    <tr>\n",
       "      <th>1</th>\n",
       "      <td>Shore Infotech India Pvt. Ltd</td>\n",
       "    </tr>\n",
       "    <tr>\n",
       "      <th>2</th>\n",
       "      <td>XenonStack</td>\n",
       "    </tr>\n",
       "    <tr>\n",
       "      <th>3</th>\n",
       "      <td>Enerlytics Software Solutions Pvt Ltd</td>\n",
       "    </tr>\n",
       "    <tr>\n",
       "      <th>4</th>\n",
       "      <td>MARSIAN Technologies LLP</td>\n",
       "    </tr>\n",
       "  </tbody>\n",
       "</table>\n",
       "</div>"
      ],
      "text/plain": [
       "                            Company Name\n",
       "0                   Data Science Network\n",
       "1          Shore Infotech India Pvt. Ltd\n",
       "2                             XenonStack\n",
       "3  Enerlytics Software Solutions Pvt Ltd\n",
       "4               MARSIAN Technologies LLP"
      ]
     },
     "execution_count": 37,
     "metadata": {},
     "output_type": "execute_result"
    }
   ],
   "source": [
    "company1 = pd.DataFrame(company)\n",
    "company2= company1.rename({0 : 'Company Name'}, axis=1  )\n",
    "company2[0:5]"
   ]
  },
  {
   "cell_type": "code",
   "execution_count": 38,
   "metadata": {},
   "outputs": [
    {
     "data": {
      "text/plain": [
       "[<selenium.webdriver.remote.webelement.WebElement (session=\"b4103080033d2b2ea3fcd788be4355fa\", element=\"15118858-5db4-465c-9477-d56b25d5f7b8\")>,\n",
       " <selenium.webdriver.remote.webelement.WebElement (session=\"b4103080033d2b2ea3fcd788be4355fa\", element=\"3bc04fc3-e111-40fe-9039-db41e1dbccab\")>,\n",
       " <selenium.webdriver.remote.webelement.WebElement (session=\"b4103080033d2b2ea3fcd788be4355fa\", element=\"9e01ff5b-9eff-410e-ac84-d4b0ae5bf1ef\")>,\n",
       " <selenium.webdriver.remote.webelement.WebElement (session=\"b4103080033d2b2ea3fcd788be4355fa\", element=\"8b0d2e64-17c1-483f-8152-524990f2cce3\")>,\n",
       " <selenium.webdriver.remote.webelement.WebElement (session=\"b4103080033d2b2ea3fcd788be4355fa\", element=\"acedac7f-5afa-458e-a9f4-ee84f9f8629a\")>]"
      ]
     },
     "execution_count": 38,
     "metadata": {},
     "output_type": "execute_result"
    }
   ],
   "source": [
    "Task10 = driver.find_elements_by_xpath(\"//div[@class='recInfo']//div[@class='hireSec highlightable']\")\n",
    "Task10[0:5]"
   ]
  },
  {
   "cell_type": "code",
   "execution_count": 39,
   "metadata": {},
   "outputs": [
    {
     "data": {
      "text/plain": [
       "['Classic ASP Developer, Internet Marketing Professional, Data Science SME, Content Writers, SEO Professional, Revenue Professional',\n",
       " '.Net, Java, Data Science, Linux Administration, Sql Server Development, Winforms, Wcf Services, Wpf, Telecom Engineering, Technical Management, Software',\n",
       " 'Web Designing, html5, Angular.js, seo, hadoop, Cloud Computing, python, Iphone Development, java, Machine Learning, aws, analytics, linux, puppet',\n",
       " 'Mean Stack, javascript, angularjs, mongodb, Web Services, rest, express, Node.js, Big Data, iot, Data Science, Cloud Computing, saas, Aws',\n",
       " 'Data Science, Artificial Intelligence, Machine Learning, Business Analytics']"
      ]
     },
     "execution_count": 39,
     "metadata": {},
     "output_type": "execute_result"
    }
   ],
   "source": [
    "for yu in Task10:\n",
    "    ui = yu.text\n",
    "    skills.append(ui)\n",
    "skills[0:5]"
   ]
  },
  {
   "cell_type": "code",
   "execution_count": 40,
   "metadata": {},
   "outputs": [
    {
     "data": {
      "text/html": [
       "<div>\n",
       "<style scoped>\n",
       "    .dataframe tbody tr th:only-of-type {\n",
       "        vertical-align: middle;\n",
       "    }\n",
       "\n",
       "    .dataframe tbody tr th {\n",
       "        vertical-align: top;\n",
       "    }\n",
       "\n",
       "    .dataframe thead th {\n",
       "        text-align: right;\n",
       "    }\n",
       "</style>\n",
       "<table border=\"1\" class=\"dataframe\">\n",
       "  <thead>\n",
       "    <tr style=\"text-align: right;\">\n",
       "      <th></th>\n",
       "      <th>Skills They Hire</th>\n",
       "    </tr>\n",
       "  </thead>\n",
       "  <tbody>\n",
       "    <tr>\n",
       "      <th>0</th>\n",
       "      <td>Classic ASP Developer, Internet Marketing Prof...</td>\n",
       "    </tr>\n",
       "    <tr>\n",
       "      <th>1</th>\n",
       "      <td>.Net, Java, Data Science, Linux Administration...</td>\n",
       "    </tr>\n",
       "    <tr>\n",
       "      <th>2</th>\n",
       "      <td>Web Designing, html5, Angular.js, seo, hadoop,...</td>\n",
       "    </tr>\n",
       "    <tr>\n",
       "      <th>3</th>\n",
       "      <td>Mean Stack, javascript, angularjs, mongodb, We...</td>\n",
       "    </tr>\n",
       "    <tr>\n",
       "      <th>4</th>\n",
       "      <td>Data Science, Artificial Intelligence, Machine...</td>\n",
       "    </tr>\n",
       "    <tr>\n",
       "      <th>5</th>\n",
       "      <td>Hadoop, Spark, Digital Strategy, Data Architec...</td>\n",
       "    </tr>\n",
       "    <tr>\n",
       "      <th>6</th>\n",
       "      <td>Python, Data Science, .Net, Java, Big Data, Da...</td>\n",
       "    </tr>\n",
       "    <tr>\n",
       "      <th>7</th>\n",
       "      <td>Analytics, Business Intelligence, Business Ana...</td>\n",
       "    </tr>\n",
       "    <tr>\n",
       "      <th>8</th>\n",
       "      <td>Data Science</td>\n",
       "    </tr>\n",
       "    <tr>\n",
       "      <th>9</th>\n",
       "      <td>Machine Learning, algorithms, Go Getter, Compu...</td>\n",
       "    </tr>\n",
       "    <tr>\n",
       "      <th>10</th>\n",
       "      <td>Technical Training, Software Development, Pres...</td>\n",
       "    </tr>\n",
       "    <tr>\n",
       "      <th>11</th>\n",
       "      <td>Software Development, It Sales, Account Manage...</td>\n",
       "    </tr>\n",
       "    <tr>\n",
       "      <th>12</th>\n",
       "      <td>Qa, Ui/ux, Java Developer, Java Architect, C++...</td>\n",
       "    </tr>\n",
       "    <tr>\n",
       "      <th>13</th>\n",
       "      <td>Business Intelligence, Data Warehousing, Data ...</td>\n",
       "    </tr>\n",
       "    <tr>\n",
       "      <th>14</th>\n",
       "      <td>Office Administration, Hr Administration, tele...</td>\n",
       "    </tr>\n",
       "    <tr>\n",
       "      <th>15</th>\n",
       "      <td>Telecalling, Client Interaction, Marketing, Re...</td>\n",
       "    </tr>\n",
       "    <tr>\n",
       "      <th>16</th>\n",
       "      <td>Big Data, Hadoop, Data Analytics, Data Science</td>\n",
       "    </tr>\n",
       "    <tr>\n",
       "      <th>17</th>\n",
       "      <td>Data Science</td>\n",
       "    </tr>\n",
       "    <tr>\n",
       "      <th>18</th>\n",
       "      <td>Ites, Data Science, Cloud, Iot</td>\n",
       "    </tr>\n",
       "    <tr>\n",
       "      <th>19</th>\n",
       "      <td>Social Media, digital media maketing, seo, smm...</td>\n",
       "    </tr>\n",
       "    <tr>\n",
       "      <th>20</th>\n",
       "      <td>Corporate Sales, Software Development, Softwar...</td>\n",
       "    </tr>\n",
       "    <tr>\n",
       "      <th>21</th>\n",
       "      <td>Data Analytics, Data Science, Machine Learning...</td>\n",
       "    </tr>\n",
       "    <tr>\n",
       "      <th>22</th>\n",
       "      <td>Data Science, Machine Learning, Python, R, Dee...</td>\n",
       "    </tr>\n",
       "    <tr>\n",
       "      <th>23</th>\n",
       "      <td>Data Science, Artificial Intelligence, Machine...</td>\n",
       "    </tr>\n",
       "    <tr>\n",
       "      <th>24</th>\n",
       "      <td>B.tech, Hr Mba, quality assurance engineering,...</td>\n",
       "    </tr>\n",
       "    <tr>\n",
       "      <th>25</th>\n",
       "      <td>Big Data, Data Science, Artificial Intelligenc...</td>\n",
       "    </tr>\n",
       "    <tr>\n",
       "      <th>26</th>\n",
       "      <td>Java, Net, Angularjs, Hr, Infrastructure, Mana...</td>\n",
       "    </tr>\n",
       "    <tr>\n",
       "      <th>27</th>\n",
       "      <td>Software Architecture, Vp Engineering, Product...</td>\n",
       "    </tr>\n",
       "    <tr>\n",
       "      <th>28</th>\n",
       "      <td>mechatronics, robotics, Home Automation, iot, ...</td>\n",
       "    </tr>\n",
       "    <tr>\n",
       "      <th>29</th>\n",
       "      <td>Data Science, Hadoop, Rpas, Devops, Python, Aw...</td>\n",
       "    </tr>\n",
       "    <tr>\n",
       "      <th>30</th>\n",
       "      <td>Signal Processing, Machine Learning, Neural Ne...</td>\n",
       "    </tr>\n",
       "    <tr>\n",
       "      <th>31</th>\n",
       "      <td>Web Technologies, Project Management, Software...</td>\n",
       "    </tr>\n",
       "    <tr>\n",
       "      <th>32</th>\n",
       "      <td>Data Analytics, Managed Services, Team Leading...</td>\n",
       "    </tr>\n",
       "    <tr>\n",
       "      <th>33</th>\n",
       "      <td>Java, Python, Angularjs, Software Testing, Mac...</td>\n",
       "    </tr>\n",
       "    <tr>\n",
       "      <th>34</th>\n",
       "      <td>Data Science, Machine Learning, Big Data Analy...</td>\n",
       "    </tr>\n",
       "    <tr>\n",
       "      <th>35</th>\n",
       "      <td>Machine Learning, Artificial Intelligence, Dat...</td>\n",
       "    </tr>\n",
       "    <tr>\n",
       "      <th>36</th>\n",
       "      <td>C, C++, Artificial Intelligence, Python, Php, ...</td>\n",
       "    </tr>\n",
       "    <tr>\n",
       "      <th>37</th>\n",
       "      <td>Relationship Management, Retail Sales, Private...</td>\n",
       "    </tr>\n",
       "    <tr>\n",
       "      <th>38</th>\n",
       "      <td>Data Science, Software Engineering</td>\n",
       "    </tr>\n",
       "    <tr>\n",
       "      <th>39</th>\n",
       "      <td>Data Science, Big Data Analytics, Digital Mark...</td>\n",
       "    </tr>\n",
       "    <tr>\n",
       "      <th>40</th>\n",
       "      <td>Data Science, Recruitment, Salary</td>\n",
       "    </tr>\n",
       "    <tr>\n",
       "      <th>41</th>\n",
       "      <td>B.Tech, Tableau, Statistics, R, Analytics, Tim...</td>\n",
       "    </tr>\n",
       "    <tr>\n",
       "      <th>42</th>\n",
       "      <td>Software Development, Business Intelligence, B...</td>\n",
       "    </tr>\n",
       "    <tr>\n",
       "      <th>43</th>\n",
       "      <td>Data Science, Node.js, Angularjs</td>\n",
       "    </tr>\n",
       "    <tr>\n",
       "      <th>44</th>\n",
       "      <td>Data Science, Media Marketing, Resource Planni...</td>\n",
       "    </tr>\n",
       "    <tr>\n",
       "      <th>45</th>\n",
       "      <td>Data Analysis, Learning, Data Science, Compute...</td>\n",
       "    </tr>\n",
       "    <tr>\n",
       "      <th>46</th>\n",
       "      <td>Java, Hadoop, R, Machine Learning, Spark, Flum...</td>\n",
       "    </tr>\n",
       "    <tr>\n",
       "      <th>47</th>\n",
       "      <td>Software Development, Core Java, Unit Testing,...</td>\n",
       "    </tr>\n",
       "    <tr>\n",
       "      <th>48</th>\n",
       "      <td>Machine Learning, Data Science, Product Manage...</td>\n",
       "    </tr>\n",
       "    <tr>\n",
       "      <th>49</th>\n",
       "      <td>consulting, Education Counseling, Educational ...</td>\n",
       "    </tr>\n",
       "  </tbody>\n",
       "</table>\n",
       "</div>"
      ],
      "text/plain": [
       "                                    Skills They Hire \n",
       "0   Classic ASP Developer, Internet Marketing Prof...\n",
       "1   .Net, Java, Data Science, Linux Administration...\n",
       "2   Web Designing, html5, Angular.js, seo, hadoop,...\n",
       "3   Mean Stack, javascript, angularjs, mongodb, We...\n",
       "4   Data Science, Artificial Intelligence, Machine...\n",
       "5   Hadoop, Spark, Digital Strategy, Data Architec...\n",
       "6   Python, Data Science, .Net, Java, Big Data, Da...\n",
       "7   Analytics, Business Intelligence, Business Ana...\n",
       "8                                        Data Science\n",
       "9   Machine Learning, algorithms, Go Getter, Compu...\n",
       "10  Technical Training, Software Development, Pres...\n",
       "11  Software Development, It Sales, Account Manage...\n",
       "12  Qa, Ui/ux, Java Developer, Java Architect, C++...\n",
       "13  Business Intelligence, Data Warehousing, Data ...\n",
       "14  Office Administration, Hr Administration, tele...\n",
       "15  Telecalling, Client Interaction, Marketing, Re...\n",
       "16     Big Data, Hadoop, Data Analytics, Data Science\n",
       "17                                       Data Science\n",
       "18                     Ites, Data Science, Cloud, Iot\n",
       "19  Social Media, digital media maketing, seo, smm...\n",
       "20  Corporate Sales, Software Development, Softwar...\n",
       "21  Data Analytics, Data Science, Machine Learning...\n",
       "22  Data Science, Machine Learning, Python, R, Dee...\n",
       "23  Data Science, Artificial Intelligence, Machine...\n",
       "24  B.tech, Hr Mba, quality assurance engineering,...\n",
       "25  Big Data, Data Science, Artificial Intelligenc...\n",
       "26  Java, Net, Angularjs, Hr, Infrastructure, Mana...\n",
       "27  Software Architecture, Vp Engineering, Product...\n",
       "28  mechatronics, robotics, Home Automation, iot, ...\n",
       "29  Data Science, Hadoop, Rpas, Devops, Python, Aw...\n",
       "30  Signal Processing, Machine Learning, Neural Ne...\n",
       "31  Web Technologies, Project Management, Software...\n",
       "32  Data Analytics, Managed Services, Team Leading...\n",
       "33  Java, Python, Angularjs, Software Testing, Mac...\n",
       "34  Data Science, Machine Learning, Big Data Analy...\n",
       "35  Machine Learning, Artificial Intelligence, Dat...\n",
       "36  C, C++, Artificial Intelligence, Python, Php, ...\n",
       "37  Relationship Management, Retail Sales, Private...\n",
       "38                 Data Science, Software Engineering\n",
       "39  Data Science, Big Data Analytics, Digital Mark...\n",
       "40                  Data Science, Recruitment, Salary\n",
       "41  B.Tech, Tableau, Statistics, R, Analytics, Tim...\n",
       "42  Software Development, Business Intelligence, B...\n",
       "43                   Data Science, Node.js, Angularjs\n",
       "44  Data Science, Media Marketing, Resource Planni...\n",
       "45  Data Analysis, Learning, Data Science, Compute...\n",
       "46  Java, Hadoop, R, Machine Learning, Spark, Flum...\n",
       "47  Software Development, Core Java, Unit Testing,...\n",
       "48  Machine Learning, Data Science, Product Manage...\n",
       "49  consulting, Education Counseling, Educational ..."
      ]
     },
     "execution_count": 40,
     "metadata": {},
     "output_type": "execute_result"
    }
   ],
   "source": [
    "skills1 = pd.DataFrame(skills)\n",
    "skills2 = skills1.rename( columns = { 0 : 'Skills They Hire '})\n",
    "skills2"
   ]
  },
  {
   "cell_type": "code",
   "execution_count": 41,
   "metadata": {},
   "outputs": [
    {
     "data": {
      "text/plain": [
       "[<selenium.webdriver.remote.webelement.WebElement (session=\"b4103080033d2b2ea3fcd788be4355fa\", element=\"15118858-5db4-465c-9477-d56b25d5f7b8\")>,\n",
       " <selenium.webdriver.remote.webelement.WebElement (session=\"b4103080033d2b2ea3fcd788be4355fa\", element=\"3bc04fc3-e111-40fe-9039-db41e1dbccab\")>,\n",
       " <selenium.webdriver.remote.webelement.WebElement (session=\"b4103080033d2b2ea3fcd788be4355fa\", element=\"9e01ff5b-9eff-410e-ac84-d4b0ae5bf1ef\")>,\n",
       " <selenium.webdriver.remote.webelement.WebElement (session=\"b4103080033d2b2ea3fcd788be4355fa\", element=\"8b0d2e64-17c1-483f-8152-524990f2cce3\")>,\n",
       " <selenium.webdriver.remote.webelement.WebElement (session=\"b4103080033d2b2ea3fcd788be4355fa\", element=\"acedac7f-5afa-458e-a9f4-ee84f9f8629a\")>]"
      ]
     },
     "execution_count": 41,
     "metadata": {},
     "output_type": "execute_result"
    }
   ],
   "source": [
    "Task11 = driver.find_elements_by_xpath(\"//div[@class='recInfo']//div[@class='hireSec highlightable']\")\n",
    "Task11[0:5]"
   ]
  },
  {
   "cell_type": "code",
   "execution_count": 42,
   "metadata": {},
   "outputs": [],
   "source": [
    "field_list = []"
   ]
  },
  {
   "cell_type": "code",
   "execution_count": 44,
   "metadata": {},
   "outputs": [
    {
     "name": "stdout",
     "output_type": "stream",
     "text": [
      "Delhi\n",
      "Hyderabad / Secunderabad\n",
      "Chandigarh\n",
      "Ahmedabad\n",
      "Pune\n",
      "UK - (london)\n",
      "Delhi\n",
      "Vadodara / Baroda\n",
      "Chennai\n",
      "Trivandrum\n",
      "Indore\n",
      "Bengaluru / Bangalore\n",
      "Hyderabad / Secunderabad\n",
      "Bengaluru / Bangalore\n",
      "Mumbai\n",
      "Navi Mumbai\n",
      "Bhopal\n",
      "Cochin\n",
      "Bengaluru / Bangalore\n",
      "Hyderabad / Secunderabad\n",
      "Delhi\n",
      "Hyderabad / Secunderabad\n",
      "Pune\n",
      "Pune\n",
      "Chandigarh\n",
      "Pune\n",
      "Pune\n",
      "Bengaluru / Bangalore\n",
      "Hyderabad / Secunderabad\n",
      "Bengaluru / Bangalore\n",
      "Delhi\n",
      "Mysoru / Mysore\n",
      "Noida\n",
      "Hyderabad / Secunderabad\n",
      "New Delhi\n",
      "Chennai\n",
      "Aligarh\n",
      "Salt Lake City\n",
      "Pune\n",
      "Bengaluru / Bangalore\n",
      "Mumbai\n",
      "Indore\n",
      "Bengaluru / Bangalore\n",
      "MYSORE\n",
      "Hyderabad / Secunderabad\n",
      "Bengaluru / Bangalore\n",
      "Mumbai\n",
      "Noida\n"
     ]
    }
   ],
   "source": [
    "# Getting location Data \n",
    "fields = driver.find_elements_by_xpath(\"//small[@class='ellipsis']\")\n",
    "for f in fields:\n",
    "    field_list.append(f.text)\n",
    "\n",
    "new_list = [x if x.strip() else None for x in field_list]\n",
    "\n",
    "for f in new_list:\n",
    "    print(f)"
   ]
  },
  {
   "cell_type": "code",
   "execution_count": null,
   "metadata": {},
   "outputs": [],
   "source": []
  },
  {
   "cell_type": "code",
   "execution_count": null,
   "metadata": {},
   "outputs": [],
   "source": []
  }
 ],
 "metadata": {
  "kernelspec": {
   "display_name": "Python 3",
   "language": "python",
   "name": "python3"
  },
  "language_info": {
   "codemirror_mode": {
    "name": "ipython",
    "version": 3
   },
   "file_extension": ".py",
   "mimetype": "text/x-python",
   "name": "python",
   "nbconvert_exporter": "python",
   "pygments_lexer": "ipython3",
   "version": "3.7.6"
  }
 },
 "nbformat": 4,
 "nbformat_minor": 4
}
