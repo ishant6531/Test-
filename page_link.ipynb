{
 "cells": [
  {
   "cell_type": "code",
   "execution_count": 59,
   "metadata": {},
   "outputs": [],
   "source": [
    "# Loading  Necessary  library \n",
    "\n",
    "import numpy as np\n",
    "import pandas as pd\n",
    "from  selenium import webdriver\n",
    "from time import sleep\n",
    "import warnings\n",
    "warnings.filterwarnings('ignore')\n",
    "import time\n",
    "import string\n",
    "from selenium.common.exceptions import StaleElementReferenceException, NoSuchElementException\n",
    "from datetime import date\n",
    "from bs4 import BeautifulSoup\n",
    "\n",
    "driver=webdriver.Chrome(r\"C:\\Users\\thunderbolt\\sof1\\chromedriver.exe\")\n"
   ]
  },
  {
   "cell_type": "code",
   "execution_count": 60,
   "metadata": {},
   "outputs": [],
   "source": [
    "driver.get(\"https://in.indeed.com/viewjob?from=appsharedroid&jk=885c01b16b8693cf\")"
   ]
  },
  {
   "cell_type": "code",
   "execution_count": 61,
   "metadata": {},
   "outputs": [],
   "source": [
    "page_link = []"
   ]
  },
  {
   "cell_type": "code",
   "execution_count": 62,
   "metadata": {},
   "outputs": [],
   "source": [
    "\n",
    "    soup = BeautifulSoup(driver.page_source, 'html.parser')\n",
    "    \n",
    "       \n",
    "    try:\n",
    "        Task1 = soup.findAll ('meta', {'id' : 'indeed-share-url'} )\n",
    "        page_link.append(Task1)\n",
    "    except:\n",
    "        page_link.append('  ')"
   ]
  },
  {
   "cell_type": "code",
   "execution_count": 63,
   "metadata": {},
   "outputs": [
    {
     "data": {
      "text/plain": [
       "[[<meta content=\"https://in.indeed.com/viewjob?from=appsharedroid&amp;jk=885c01b16b8693cf\" id=\"indeed-share-url\"/>]]"
      ]
     },
     "execution_count": 63,
     "metadata": {},
     "output_type": "execute_result"
    }
   ],
   "source": [
    "page_link"
   ]
  },
  {
   "cell_type": "code",
   "execution_count": null,
   "metadata": {},
   "outputs": [],
   "source": []
  },
  {
   "cell_type": "code",
   "execution_count": null,
   "metadata": {},
   "outputs": [],
   "source": []
  }
 ],
 "metadata": {
  "kernelspec": {
   "display_name": "Python 3",
   "language": "python",
   "name": "python3"
  },
  "language_info": {
   "codemirror_mode": {
    "name": "ipython",
    "version": 3
   },
   "file_extension": ".py",
   "mimetype": "text/x-python",
   "name": "python",
   "nbconvert_exporter": "python",
   "pygments_lexer": "ipython3",
   "version": "3.7.6"
  }
 },
 "nbformat": 4,
 "nbformat_minor": 4
}
